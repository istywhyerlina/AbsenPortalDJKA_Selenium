{
 "cells": [
  {
   "cell_type": "code",
   "execution_count": 13,
   "metadata": {},
   "outputs": [],
   "source": [
    "#pip install selenium"
   ]
  },
  {
   "cell_type": "code",
   "execution_count": 46,
   "metadata": {},
   "outputs": [],
   "source": [
    "from selenium import webdriver\n",
    "from selenium.webdriver.chrome.options import Options\n",
    "from selenium.webdriver.support.ui import WebDriverWait\n",
    "from selenium.webdriver.support import expected_conditions as EC\n",
    "from selenium.webdriver.common.by import By\n",
    "from selenium.common.exceptions import TimeoutException\n",
    "from bs4 import BeautifulSoup\n",
    "from selenium.webdriver.remote.webelement import WebElement\n",
    "import pandas as pd\n",
    "import time\n",
    "#import os"
   ]
  },
  {
   "cell_type": "code",
   "execution_count": 47,
   "metadata": {},
   "outputs": [],
   "source": [
    "chrome_options = Options()\n",
    "chrome_options.add_experimental_option(\"prefs\", {\n",
    "  \"download.default_directory\": r\"C:\\Users\\istyw\\Documents\\belajar- Isty\\Absen Otomatis\",\n",
    "  \"download.prompt_for_download\": False,\n",
    "  \"download.directory_upgrade\": True,\n",
    "  \"safebrowsing.enabled\": False\n",
    "})"
   ]
  },
  {
   "cell_type": "code",
   "execution_count": 48,
   "metadata": {},
   "outputs": [
    {
     "name": "stderr",
     "output_type": "stream",
     "text": [
      "C:\\Users\\istyw\\AppData\\Local\\Temp\\ipykernel_30028\\2681223102.py:1: DeprecationWarning: executable_path has been deprecated, please pass in a Service object\n",
      "  driver = webdriver.Chrome(\"C:/Users/istyw/Documents/belajar- Isty/Absen Otomatis/chromedriver.exe\",options=chrome_options)\n"
     ]
    }
   ],
   "source": [
    "driver = webdriver.Chrome(\"C:/Users/istyw/Documents/belajar- Isty/Absen Otomatis/chromedriver.exe\",options=chrome_options)\n",
    "driver.maximize_window()"
   ]
  },
  {
   "cell_type": "code",
   "execution_count": 49,
   "metadata": {},
   "outputs": [],
   "source": [
    "driver.get('https://portal.djka.dephub.go.id/djka_intern/')\n",
    "\n"
   ]
  },
  {
   "cell_type": "code",
   "execution_count": 50,
   "metadata": {},
   "outputs": [],
   "source": [
    "from datetime import datetime\n",
    "i=str(datetime.now())\n",
    "i=i.replace(\":\",\"-\")"
   ]
  },
  {
   "cell_type": "code",
   "execution_count": 51,
   "metadata": {},
   "outputs": [],
   "source": [
    "\n",
    "a = driver.find_element(By.XPATH,\"/html/body/div[1]/div[2]/form/div[3]/img\");\n",
    "#Downloading image\n",
    "with open('C:/Users/istyw/Documents/belajar- Isty/Absen Otomatis/New/%s.png'%i, 'wb') as file:\n",
    "    file.write(a.screenshot_as_png);"
   ]
  },
  {
   "cell_type": "code",
   "execution_count": 52,
   "metadata": {},
   "outputs": [],
   "source": [
    "#Predict Captcha\n",
    "import pytesseract\n",
    "import PIL.Image\n",
    "import cv2"
   ]
  },
  {
   "cell_type": "code",
   "execution_count": 53,
   "metadata": {},
   "outputs": [],
   "source": [
    "myconfig = r\"--psm 6 --oem 3\""
   ]
  },
  {
   "cell_type": "code",
   "execution_count": 54,
   "metadata": {},
   "outputs": [],
   "source": [
    "captcha = pytesseract.image_to_string(PIL.Image.open(i+\".png\"),config=myconfig)"
   ]
  },
  {
   "cell_type": "code",
   "execution_count": 55,
   "metadata": {},
   "outputs": [],
   "source": [
    "#print(captcha)"
   ]
  },
  {
   "cell_type": "code",
   "execution_count": 56,
   "metadata": {},
   "outputs": [],
   "source": [
    "driver.find_element(By.NAME,\"username\").send_keys('username dirimu')\n",
    "time.sleep(6)\n",
    "driver.find_element(By.NAME,\"password\").send_keys('password dirimu')\n",
    "time.sleep(6)\n",
    "driver.find_element(By.NAME,\"nilaiCaptcha\").send_keys(captcha)\n",
    "time.sleep(6)\n",
    "#driver.find_element(By.XPATH,\"/html/body/div[1]/div[2]/form/div[5]/div[2]/button\").click();\n"
   ]
  },
  {
   "cell_type": "code",
   "execution_count": 57,
   "metadata": {},
   "outputs": [],
   "source": [
    "try:\n",
    "    #switch to alert box\n",
    "    alert = driver.switch_to.alert\n",
    "    #accept the alert\n",
    "    alert.accept()\n",
    "except Exception:\n",
    "    pass"
   ]
  },
  {
   "cell_type": "code",
   "execution_count": 58,
   "metadata": {},
   "outputs": [],
   "source": [
    "#Click menu absensi\n",
    "driver.find_element(By.XPATH,\"/html/body/div[1]/div[1]/div/div/div[2]/div[1]/a[2]/div/div\").click();\n",
    "time.sleep(4) \n"
   ]
  },
  {
   "cell_type": "code",
   "execution_count": 59,
   "metadata": {},
   "outputs": [],
   "source": [
    "status_wfh=\"wfo\""
   ]
  },
  {
   "cell_type": "code",
   "execution_count": 60,
   "metadata": {},
   "outputs": [],
   "source": [
    "from datetime import datetime\n",
    "datenow=datetime.now()\n",
    "timenow=datenow.strftime(\"%H\")\n",
    "timenow=int(timenow)\n",
    "\n",
    "import time\n",
    "if timenow<12:\n",
    "    #Clik tambah data\n",
    "    driver.find_element(By.XPATH,\"/html/body/div[1]/div[1]/div/section[2]/div/div/div/div[1]/a\").click();\n",
    "    time.sleep(4)\n",
    "    #Clik Pilih Penugasan\n",
    "    driver.find_element(By.XPATH,\"//*[@id='select2-Penugasan-container']\").click();\n",
    "    time.sleep(4)\n",
    "    if status_wfh==\"wfh\":\n",
    "        driver.find_element(By.XPATH,\"/html/body/span/span/span[2]/ul/li[3]\").click()\n",
    "    if status_wfh==\"wfo\":\n",
    "        driver.find_element(By.XPATH,\"/html/body/span/span/span[2]/ul/li[3]\").click()\n",
    "    else:\n",
    "        driver.find_element(By.XPATH,\"/html/body/span/span/span[2]/ul/li[4]\").click()\n",
    "    time.sleep(4)\n",
    "    #Click location\n",
    "    driver.find_element(By.XPATH,\"//*[@id='demo']/div[1]/a\").click()\n",
    "    time.sleep(4)\n",
    "    #Upload Foto\n",
    "    s= driver.find_element(By.XPATH,\"//*[@id='Add']/div/div/div[2]/form/div[7]/div/div/input\")\n",
    "    s.send_keys('C:\\\\Users\\\\istyw\\\\Pictures\\\\Saved Pictures\\\\Brain.jpg')\n",
    "    #Keterangan\n",
    "    driver.find_element(By.XPATH,\"//*[@id='Add']/div/div/div[2]/form/div[8]/div/div/textarea\").send_keys(\"sehat\")\n",
    "    \n",
    "else: \n",
    "    #Clik tambah data\n",
    "    driver.find_element(By.XPATH,\"/html/body/div[1]/div[1]/div/section[2]/div/div/div/div[1]/a\").click();\n",
    "    time.sleep(4)\n",
    "    #Clik Pilih Penugasan\n",
    "    driver.find_element(By.XPATH,\"//*[@id='select2-Penugasan-container']\").click();\n",
    "    time.sleep(4)\n",
    "    if status_wfh==\"wfh\":\n",
    "        driver.find_element(By.XPATH,\"/html/body/span/span/span[2]/ul/li[3]\").click()\n",
    "    if status_wfh==\"wfo\":\n",
    "        driver.find_element(By.XPATH,\"/html/body/span/span/span[2]/ul/li[3]\").click()\n",
    "    else:\n",
    "        driver.find_element(By.XPATH,\"/html/body/span/span/span[2]/ul/li[4]\").click()\n",
    "    time.sleep(4)\n",
    "    #Click location\n",
    "    driver.find_element(By.XPATH,\"//*[@id='demo']/div[1]/a\").click()\n",
    "    time.sleep(4)\n",
    "    "
   ]
  },
  {
   "cell_type": "code",
   "execution_count": 61,
   "metadata": {},
   "outputs": [],
   "source": [
    "#Submit\n",
    "driver.find_element(By.XPATH,\"//*[@id='Add']/div/div/div[2]/form/div[9]/button[1]\").click()\n",
    "time.sleep(4)"
   ]
  },
  {
   "cell_type": "code",
   "execution_count": 62,
   "metadata": {},
   "outputs": [],
   "source": [
    "try:\n",
    "    #switch to alert box\n",
    "    alert = driver.switch_to.alert\n",
    "    #accept the alert\n",
    "    alert.accept()\n",
    "except Exception:\n",
    "    pass"
   ]
  },
  {
   "cell_type": "code",
   "execution_count": 63,
   "metadata": {},
   "outputs": [],
   "source": [
    "driver.quit()"
   ]
  },
  {
   "cell_type": "code",
   "execution_count": null,
   "metadata": {},
   "outputs": [],
   "source": []
  }
 ],
 "metadata": {
  "kernelspec": {
   "display_name": "Python 3 (ipykernel)",
   "language": "python",
   "name": "python3"
  },
  "language_info": {
   "codemirror_mode": {
    "name": "ipython",
    "version": 3
   },
   "file_extension": ".py",
   "mimetype": "text/x-python",
   "name": "python",
   "nbconvert_exporter": "python",
   "pygments_lexer": "ipython3",
   "version": "3.9.13"
  }
 },
 "nbformat": 4,
 "nbformat_minor": 4
}
